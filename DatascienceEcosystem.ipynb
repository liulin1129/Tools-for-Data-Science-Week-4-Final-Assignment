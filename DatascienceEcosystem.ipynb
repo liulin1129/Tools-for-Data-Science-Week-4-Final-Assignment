{
 "cells": [
  {
   "cell_type": "markdown",
   "id": "d1fc5fd4-afb1-4141-907a-e32fd462d8c3",
   "metadata": {},
   "source": [
    "#  Data Science Tools and Ecosystem"
   ]
  },
  {
   "cell_type": "markdown",
   "id": "d48f5f95-0db4-43b5-96f9-3caa9427cb66",
   "metadata": {},
   "source": [
    "In this notebook, Data Science Tools and Ecosystem are summarized."
   ]
  },
  {
   "cell_type": "markdown",
   "id": "66120a76-2db0-457a-b83d-dd387d474652",
   "metadata": {},
   "source": [
    "__Objectives__\n",
    "- List of Popular Languages for Data Science\n",
    "- List of Commonly used Libaries by Data Scientists\n",
    "- Using Simple Arithmetic Expressions"
   ]
  },
  {
   "cell_type": "markdown",
   "id": "a3abd407-feb2-4bc4-9891-96879bfc869d",
   "metadata": {},
   "source": [
    "Some of the popular languages that Data Scientists use are:\n",
    "1. Python\n",
    "2. R\n",
    "3. SQL\n",
    "4. Java\n",
    "5. Julia"
   ]
  },
  {
   "cell_type": "markdown",
   "id": "73661821-f9ab-440f-ba7f-cb4a4669f085",
   "metadata": {},
   "source": [
    "Some of the commonly used libraries used by Data Scientists include:\n",
    "1. TensorFlow\n",
    "2. NumPy\n",
    "3. SciPy\n",
    "4. Pandas\n",
    "5. Keras"
   ]
  },
  {
   "cell_type": "markdown",
   "id": "8f19a648-f5c8-4489-8f9a-b2a8b56f5111",
   "metadata": {},
   "source": [
    "| Data Science Tools |\n",
    "| ------------- |\n",
    "| Git| \n",
    "| Apache Cordova | \n",
    "| Eclipse IDE   | \n"
   ]
  },
  {
   "cell_type": "markdown",
   "id": "f77d389f-3709-4b0c-808c-26472beff385",
   "metadata": {},
   "source": [
    "### Below are a few examples of evaluating arithmetic expressions in Python.\n",
    "- Math Expressions\n",
    "- Boolean Expressions (True or False)\n",
    "- General Purpose Expression\n"
   ]
  },
  {
   "cell_type": "markdown",
   "id": "c565d7ce-dcc6-4815-9d22-631149ca0e28",
   "metadata": {},
   "source": [
    "*This a simple arithmetic expression to mutiply then add integers*"
   ]
  },
  {
   "cell_type": "code",
   "execution_count": 4,
   "id": "73408c41-df6f-4831-a7f7-655517ee9840",
   "metadata": {},
   "outputs": [
    {
     "data": {
      "text/plain": [
       "17"
      ]
     },
     "execution_count": 4,
     "metadata": {},
     "output_type": "execute_result"
    }
   ],
   "source": [
    "(3*4)+5"
   ]
  },
  {
   "cell_type": "markdown",
   "id": "124515d2-d2b6-4fa4-97fe-7546155e7f6d",
   "metadata": {},
   "source": [
    "*This will convert 200 minutes to hours by diving by 60*"
   ]
  },
  {
   "cell_type": "code",
   "execution_count": 9,
   "id": "9eeb41e5-45ed-4d29-a628-31aadc3197a4",
   "metadata": {},
   "outputs": [
    {
     "data": {
      "text/plain": [
       "3.3333333333333335"
      ]
     },
     "execution_count": 9,
     "metadata": {},
     "output_type": "execute_result"
    }
   ],
   "source": [
    "200/60"
   ]
  },
  {
   "cell_type": "markdown",
   "id": "fc56fb43-33a7-4338-8767-9e7557881990",
   "metadata": {},
   "source": [
    "**Lakshimi Holla and Niveditha Pandith**"
   ]
  },
  {
   "cell_type": "markdown",
   "id": "975b8010-164c-42a1-9065-c7865d81c66f",
   "metadata": {},
   "source": [
    "Linda Liu"
   ]
  }
 ],
 "metadata": {
  "kernelspec": {
   "display_name": "Python",
   "language": "python",
   "name": "conda-env-python-py"
  },
  "language_info": {
   "codemirror_mode": {
    "name": "ipython",
    "version": 3
   },
   "file_extension": ".py",
   "mimetype": "text/x-python",
   "name": "python",
   "nbconvert_exporter": "python",
   "pygments_lexer": "ipython3",
   "version": "3.7.12"
  }
 },
 "nbformat": 4,
 "nbformat_minor": 5
}
